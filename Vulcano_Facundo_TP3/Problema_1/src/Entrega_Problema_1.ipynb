{
 "cells": [
  {
   "cell_type": "code",
   "execution_count": 2,
   "metadata": {},
   "outputs": [],
   "source": [
    "import pandas as pd\n",
    "import numpy as np\n",
    "\n",
    "#get the majority class\n",
    "#eliminate randomly\n",
    "\n",
    "#df = pd.read_csv('/home/facuvulcano/Machine-Learning/Vulcano_Facundo_TP3/Problema_1/data/raw/breast_cancer_dev.csv')\n"
   ]
  },
  {
   "cell_type": "markdown",
   "metadata": {},
   "source": [
    "## Undersampling imbalance: random elimination of majority class samples until both have same proportion"
   ]
  },
  {
   "cell_type": "code",
   "execution_count": 31,
   "metadata": {},
   "outputs": [
    {
     "name": "stdout",
     "output_type": "stream",
     "text": [
      "1      0\n",
      "2      0\n",
      "3      0\n",
      "5      0\n",
      "6      0\n",
      "      ..\n",
      "383    0\n",
      "384    0\n",
      "385    0\n",
      "386    0\n",
      "387    0\n",
      "Name: target, Length: 302, dtype: int64\n",
      "0      1\n",
      "4      1\n",
      "7      1\n",
      "8      1\n",
      "14     1\n",
      "      ..\n",
      "369    1\n",
      "372    1\n",
      "380    1\n",
      "381    1\n",
      "382    1\n",
      "Name: target, Length: 86, dtype: int64\n"
     ]
    }
   ],
   "source": [
    "class0 = df[df['target'] == 0]['target']\n",
    "class1 = df[df['target'] == 1]['target']\n",
    "print(class0)\n",
    "print(class1)"
   ]
  },
  {
   "cell_type": "code",
   "execution_count": 26,
   "metadata": {},
   "outputs": [],
   "source": [
    "class0_idxs = np.array(df.index[df['target'] == 0])\n",
    "class1_idxs = np.array(df.index[df['target'] == 1])"
   ]
  },
  {
   "cell_type": "code",
   "execution_count": 27,
   "metadata": {},
   "outputs": [
    {
     "name": "stdout",
     "output_type": "stream",
     "text": [
      "216\n"
     ]
    }
   ],
   "source": [
    "diff = len(class0_idxs) - len(class1_idxs)\n",
    "print(diff)"
   ]
  },
  {
   "cell_type": "code",
   "execution_count": 28,
   "metadata": {},
   "outputs": [
    {
     "name": "stdout",
     "output_type": "stream",
     "text": [
      "172\n"
     ]
    }
   ],
   "source": [
    "np.random.shuffle(class0_idxs)\n",
    "class0_idxs_to_drop = class0_idxs[:diff]\n",
    "df = df.drop(index=class0_idxs_to_drop)\n",
    "print(len(df))"
   ]
  },
  {
   "cell_type": "code",
   "execution_count": 29,
   "metadata": {},
   "outputs": [
    {
     "name": "stdout",
     "output_type": "stream",
     "text": [
      "1      0\n",
      "3      0\n",
      "16     0\n",
      "30     0\n",
      "32     0\n",
      "      ..\n",
      "365    0\n",
      "374    0\n",
      "377    0\n",
      "383    0\n",
      "385    0\n",
      "Name: target, Length: 86, dtype: int64\n",
      "0      1\n",
      "4      1\n",
      "7      1\n",
      "8      1\n",
      "14     1\n",
      "      ..\n",
      "369    1\n",
      "372    1\n",
      "380    1\n",
      "381    1\n",
      "382    1\n",
      "Name: target, Length: 86, dtype: int64\n"
     ]
    }
   ],
   "source": [
    "class0 = df[df['target'] == 0]['target']\n",
    "class1 = df[df['target'] == 1]['target']\n",
    "print(class0)\n",
    "print(class1)"
   ]
  },
  {
   "cell_type": "markdown",
   "metadata": {},
   "source": [
    "## Oversampling by duplication: randomly duplicate samples from minority class until both have the same proportion"
   ]
  },
  {
   "cell_type": "code",
   "execution_count": 3,
   "metadata": {},
   "outputs": [],
   "source": [
    "df = pd.read_csv('/home/facuvulcano/Machine-Learning/Vulcano_Facundo_TP3/Problema_1/data/raw/breast_cancer_dev.csv')"
   ]
  },
  {
   "cell_type": "code",
   "execution_count": 4,
   "metadata": {},
   "outputs": [
    {
     "name": "stdout",
     "output_type": "stream",
     "text": [
      "1      0\n",
      "2      0\n",
      "3      0\n",
      "5      0\n",
      "6      0\n",
      "      ..\n",
      "383    0\n",
      "384    0\n",
      "385    0\n",
      "386    0\n",
      "387    0\n",
      "Name: target, Length: 302, dtype: int64\n",
      "0      1\n",
      "4      1\n",
      "7      1\n",
      "8      1\n",
      "14     1\n",
      "      ..\n",
      "369    1\n",
      "372    1\n",
      "380    1\n",
      "381    1\n",
      "382    1\n",
      "Name: target, Length: 86, dtype: int64\n"
     ]
    }
   ],
   "source": [
    "class0 = df[df['target'] == 0]['target']\n",
    "class1 = df[df['target'] == 1]['target']\n",
    "print(class0)\n",
    "print(class1)"
   ]
  },
  {
   "cell_type": "code",
   "execution_count": 5,
   "metadata": {},
   "outputs": [],
   "source": [
    "class0_idxs = np.array(df.index[df['target'] == 0])\n",
    "class1_idxs = np.array(df.index[df['target'] == 1])"
   ]
  },
  {
   "cell_type": "code",
   "execution_count": 13,
   "metadata": {},
   "outputs": [
    {
     "name": "stdout",
     "output_type": "stream",
     "text": [
      "[187 146 351 123 214 162 158 366  26 265 173 361 250 220 276 381 104 137\n",
      " 372 353 382  38 171   8 227 117 211 130 142 294  27 201 262 237 338  90\n",
      "   0 289 264 281 196  17 175 279 186 107  14 380 215 222 349  67 275  86\n",
      " 254 229   4 306 100 169 369 258 109  54 362 177 308  18 325 144  84 184\n",
      " 112 335 357   7 166 204 176 128 119 150 318 127 270 221]\n"
     ]
    },
    {
     "data": {
      "text/plain": [
       "86"
      ]
     },
     "execution_count": 13,
     "metadata": {},
     "output_type": "execute_result"
    }
   ],
   "source": [
    "print(class1_idxs)\n",
    "len(class1_idxs)"
   ]
  },
  {
   "cell_type": "code",
   "execution_count": 6,
   "metadata": {},
   "outputs": [
    {
     "name": "stdout",
     "output_type": "stream",
     "text": [
      "216\n"
     ]
    }
   ],
   "source": [
    "diff = len(class0_idxs) - len(class1_idxs)\n",
    "print(diff)"
   ]
  },
  {
   "cell_type": "code",
   "execution_count": 7,
   "metadata": {},
   "outputs": [],
   "source": [
    "np.random.shuffle(class1_idxs)\n",
    "while diff != 0:\n",
    "    random_row = df[df['target'] ==  1].sample(n=1)\n",
    "    random_index = random_row.index[0]\n",
    "    df = pd.concat([df, random_row])\n",
    "    diff -= 1\n",
    "\n",
    "\n"
   ]
  },
  {
   "cell_type": "code",
   "execution_count": 8,
   "metadata": {},
   "outputs": [
    {
     "name": "stdout",
     "output_type": "stream",
     "text": [
      "1      0\n",
      "2      0\n",
      "3      0\n",
      "5      0\n",
      "6      0\n",
      "      ..\n",
      "383    0\n",
      "384    0\n",
      "385    0\n",
      "386    0\n",
      "387    0\n",
      "Name: target, Length: 302, dtype: int64\n",
      "0      1\n",
      "4      1\n",
      "7      1\n",
      "8      1\n",
      "14     1\n",
      "      ..\n",
      "221    1\n",
      "338    1\n",
      "38     1\n",
      "275    1\n",
      "27     1\n",
      "Name: target, Length: 302, dtype: int64\n"
     ]
    }
   ],
   "source": [
    "class0 = df[df['target'] == 0]['target']\n",
    "class1 = df[df['target'] == 1]['target']\n",
    "print(class0)\n",
    "print(class1)"
   ]
  }
 ],
 "metadata": {
  "kernelspec": {
   "display_name": "ML",
   "language": "python",
   "name": "python3"
  },
  "language_info": {
   "codemirror_mode": {
    "name": "ipython",
    "version": 3
   },
   "file_extension": ".py",
   "mimetype": "text/x-python",
   "name": "python",
   "nbconvert_exporter": "python",
   "pygments_lexer": "ipython3",
   "version": "3.8.19"
  }
 },
 "nbformat": 4,
 "nbformat_minor": 2
}
