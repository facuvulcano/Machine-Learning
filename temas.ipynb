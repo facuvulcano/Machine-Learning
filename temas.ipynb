{
 "cells": [
  {
   "cell_type": "markdown",
   "metadata": {},
   "source": [
    "Regresion Lineal:\n",
    "\n",
    "- Relacion lineal entre el output y los inputs.\n",
    "- Objetivo: encontrar los parametros optimos. Para ellos se debe minimziar la suma cuadratica de los residuos.\n",
    "- Para aplicar MLE, se debe especificar una distribucion de probabilidad para el termino del error.\n",
    "- Construction Likelihood function\n",
    "- log-likelihood function \n",
    "- maximizing the likelihood function (derivate with respect to w and sigma)\n",
    "\n",
    "\n"
   ]
  }
 ],
 "metadata": {
  "language_info": {
   "name": "python"
  }
 },
 "nbformat": 4,
 "nbformat_minor": 2
}
