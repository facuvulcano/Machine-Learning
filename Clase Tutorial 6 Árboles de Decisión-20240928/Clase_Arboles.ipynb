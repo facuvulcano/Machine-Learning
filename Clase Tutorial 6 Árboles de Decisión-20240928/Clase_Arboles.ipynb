{
  "cells": [
    {
      "cell_type": "markdown",
      "metadata": {
        "id": "s7oMnuZa1eTQ"
      },
      "source": [
        "# Clase Tutorial 6: Ensemble Learning - Arboles de decision\n"
      ]
    },
    {
      "cell_type": "code",
      "execution_count": null,
      "metadata": {},
      "outputs": [],
      "source": [
        "%load_ext autoreload\n",
        "%autoreload 2"
      ]
    },
    {
      "cell_type": "markdown",
      "metadata": {
        "id": "V7zKujxd1pkC"
      },
      "source": [
        "# 🌳 Introducción a los Árboles de Decisión \n",
        "Los árboles de decisión son un algoritmo de aprendizaje supervisado utilizado tanto para problemas de regresión como de clasificación.\n",
        "\n",
        "Consiste en **dividir los datos en subconjuntos basados en los valores de las características (features)**. Esto forma una estructura de árbol 🌲, donde cada nodo representa una decisión sobre una característica específica. Así, se busca predecir un valor a partir de inferencias de los datos conocidos.\n",
        "\n",
        "Podemos pensar en los árboles de decisión como una **aproximación por partes**. Cada rama del árbol representa una posible decisión, y cada hoja 🍃 es una predicción final.\n",
        "\n"
      ]
    },
    {
      "cell_type": "markdown",
      "metadata": {
        "id": "elr5hdqVrT2i"
      },
      "source": [
        "### ⚡  Existen distintos tipos de arboles:\n",
        "\n",
        "\n",
        "\n",
        "- Árboles de decisión simples (generalmente llamados CART - Clasification and Regression Trees):  \n",
        "    - **Árboles de clasificación:** realizan predicciones sobre una variable **categórica**.\n",
        "    - **Árboles de regresión:** realizan predicciones sobre una variable **contínua**.\n",
        "    \n",
        "    \n",
        "- Árboles de decisión basados en técnicas de Ensamble:\n",
        "    - **Bagging**.\n",
        "    - **Random Forest**.  \n",
        "    - **Boosting**.  "
      ]
    },
    {
      "cell_type": "markdown",
      "metadata": {
        "id": "w6tBIslM0cKK"
      },
      "source": [
        "## Estructura General\n",
        "\n",
        "Un árbol de decisión es una estructura similar a un diagrama de flujo, es por eso que los árboles de decisión son fáciles de entender e interpretar. Los árboles están compuestos por las siguientes partes:\n",
        "- Cada **Nodo de decisión** representa una característica/atributo\n",
        "- Cada **Rama** representa una regla de decisión.\n",
        "- Cada **Nodo Hoja** representa el resultado.\n",
        "- Al nodo superior en un árbol de decisión se lo conoce como el **nodo raíz**.\n",
        "- Al nodo del cual se desprenden otros nodos se lo llama **nodo padre** y a los nodos que se desprenden del nodo padre se los llama **nodos hijo**\n",
        "- Cada rama que no sea un nodo hoja se la puede considerar como un **sub-árbol**.\n",
        "\n",
        "\n",
        "<img src=\"structure-of-a-decision-tree.png\" alt=\"Estructura de un Árbol de Decisión\" width=\"600\"/>\n",
        "\n",
        "\n",
        "Básicamente, se busca partir el dataset en subgrupos que comparten ciertas características hasta llegar a una agrupación de datos que sean similares entre sí.\n",
        "\n",
        "\n",
        "\n"
      ]
    },
    {
      "cell_type": "markdown",
      "metadata": {
        "id": "uMDF3WY7F8jK"
      },
      "source": [
        "## 🌟 Ventajas de los Árboles de Decisión\n",
        "\n",
        "- **Fáciles de entender e interpretar**: Su representación gráfica permite una visualización clara.\n",
        "-  **Manejo de datos numéricos o categóricos**: Flexibles para trabajar con diferentes tipos de datos.\n",
        "- **Requieren poco preprocesamiento**: No es necesario normalizar los datos, lo que simplifica su uso.\n",
        "- **Modelo de caja blanca**: Las decisiones y procesos son transparentes y comprensibles.\n"
      ]
    },
    {
      "cell_type": "markdown",
      "metadata": {
        "id": "xGUi4P-ODDjI"
      },
      "source": [
        "## ⚠️ Desventajas de los Árboles de Decisión\n",
        "\n",
        "- **Tendencia al overfitting**: Pueden ajustarse demasiado a los datos de entrenamiento, lo que reduce su capacidad de generalización.\n",
        "- **Sensibilidad a cambios en el dataset**: Pequeñas variaciones en los datos pueden resultar en árboles completamente distintos, lo que puede afectar su robustez.\n",
        "- **No son buenos para extrapolar**: Las decisiones no son suaves ni continuas, sino que son aproximaciones constantes por partes.\n",
        "- **No garantizan el óptimo global**: Pueden no encontrar la mejor solución posible debido a su enfoque local.\n",
        "- **Sesgo con datasets desbalanceados**: Pueden ser muy sesgados si el conjunto de datos no está equilibrado adecuadamente.\n"
      ]
    },
    {
      "cell_type": "markdown",
      "metadata": {},
      "source": [
        "--- "
      ]
    },
    {
      "cell_type": "markdown",
      "metadata": {
        "id": "H7EYbxo_CQ6o"
      },
      "source": [
        "# 🌲 Árboles de Decisión Simples\n"
      ]
    },
    {
      "cell_type": "markdown",
      "metadata": {},
      "source": [
        "### Ejemplo: Cane Corso y Boxer 🐶\n",
        "\n",
        "<img src=\"CaneCorso_Boxer.jpg\" alt=\"Estructura de un Árbol de Decisión\" width=\"500\"/>\n",
        "\n",
        "Como establecimos, los árboles de decisión son como un conjunto de reglas que se aplican a los datos para predecir un resultado. En este caso, queremos predecir si un perro es de raza Cane Corso o Boxer.\n",
        "\n",
        "En este caso, trabajamos con dos caracteristicas sencillas:\n",
        "- **Tamaño**\n",
        "- **Peso**\n",
        "\n",
        "Proponemos entonces que\n",
        "- <span style=\"background-color: pink; color: black;\" >  if **Tamaño** > 63cm , then **Cane Corso**</span>\n",
        "- <span style=\"background-color: pink; color: black;\" >  if **Tamaño** <= 63cm  AND **Peso**> 40kg, then **Cane Corso**</span>\n",
        "- <span style=\"background-color: pink; color: black;\" >  if **Tamaño** <= 63cm  AND **Peso**<= 40kg, then **Boxer**</span>\n",
        "\n",
        "De esta forma, podemos predecir la raza de un perro a partir de estas reglas. Si bien es posible que haya perros que no cumplan con estas reglas, el modelo no busca ser perfecto, sino predecir en base a las reglas establecidas y tener un grado de precisión aceptable. \n",
        "\n",
        "La tarea de un árbol de decisión es encontrar las reglas que mejor se ajusten a los datos, y que permitan predecir con la mayor precisión posible. \n",
        "\n",
        "\n",
        "\n",
        "\n"
      ]
    },
    {
      "cell_type": "markdown",
      "metadata": {
        "id": "mZo5eyNbmvJe"
      },
      "source": [
        "## 🛠️ Algoritmo \n",
        "\n",
        "Los pasos que sigue el algoritmo de los árboles de decisión son:\n",
        "\n",
        "1. **Selección de característica**: Se busca elegir el *feature* que mejor divide los datos en subconjuntos homogéneos y más pequeños, que sea mejor que el actual.\n",
        "2. **Realizar la partición**: Se genera un nodo de decisión que crea dos nuevos subconjuntos de datos.\n",
        "3. **Repetir**: De forma recursiva, se continúa generando subconjuntos hasta llegar a los nodos hoja.\n",
        "\n",
        "#####  🚩 ATENCIÓN!\n",
        "Existen distintos criterios de parada que pueden limitar el árbol:\n",
        "- Se alcanza la **profundidad máxima** del árbol.\n",
        "- El **número mínimo de muestras** en un nodo no permite una nueva división.\n",
        "\n"
      ]
    },
    {
      "cell_type": "markdown",
      "metadata": {},
      "source": [
        "### <span style=\"background-color: pink; color: black;\" >  Seguimos con el ejemplo...\n",
        "\n",
        "Veamos entonces cómo realizar esta seleccion de caracteristicas. Para ello, analizamos el dataset de perros y sus características. En esta instancia incoporamos una nueva característica: **Orejas Recortadas**."
      ]
    },
    {
      "cell_type": "code",
      "execution_count": 2,
      "metadata": {},
      "outputs": [],
      "source": [
        "%load_ext autoreload\n",
        "%autoreload 2\n",
        "import pandas as pd\n",
        "import numpy as np\n",
        "from IPython.display import Image"
      ]
    },
    {
      "cell_type": "code",
      "execution_count": 3,
      "metadata": {},
      "outputs": [
        {
          "data": {
            "text/html": [
              "<div>\n",
              "<style scoped>\n",
              "    .dataframe tbody tr th:only-of-type {\n",
              "        vertical-align: middle;\n",
              "    }\n",
              "\n",
              "    .dataframe tbody tr th {\n",
              "        vertical-align: top;\n",
              "    }\n",
              "\n",
              "    .dataframe thead th {\n",
              "        text-align: right;\n",
              "    }\n",
              "</style>\n",
              "<table border=\"1\" class=\"dataframe\">\n",
              "  <thead>\n",
              "    <tr style=\"text-align: right;\">\n",
              "      <th></th>\n",
              "      <th>Raza</th>\n",
              "      <th>Tamaño</th>\n",
              "      <th>Peso</th>\n",
              "      <th>OrejasRecortadas</th>\n",
              "    </tr>\n",
              "  </thead>\n",
              "  <tbody>\n",
              "    <tr>\n",
              "      <th>0</th>\n",
              "      <td>Cane Corso</td>\n",
              "      <td>66.496714</td>\n",
              "      <td>46.920728</td>\n",
              "      <td>True</td>\n",
              "    </tr>\n",
              "    <tr>\n",
              "      <th>1</th>\n",
              "      <td>Cane Corso</td>\n",
              "      <td>62.861736</td>\n",
              "      <td>46.917838</td>\n",
              "      <td>False</td>\n",
              "    </tr>\n",
              "    <tr>\n",
              "      <th>2</th>\n",
              "      <td>Cane Corso</td>\n",
              "      <td>66.647689</td>\n",
              "      <td>47.802453</td>\n",
              "      <td>True</td>\n",
              "    </tr>\n",
              "    <tr>\n",
              "      <th>3</th>\n",
              "      <td>Cane Corso</td>\n",
              "      <td>67.523030</td>\n",
              "      <td>45.108400</td>\n",
              "      <td>False</td>\n",
              "    </tr>\n",
              "    <tr>\n",
              "      <th>4</th>\n",
              "      <td>Cane Corso</td>\n",
              "      <td>65.765847</td>\n",
              "      <td>45.343853</td>\n",
              "      <td>True</td>\n",
              "    </tr>\n",
              "  </tbody>\n",
              "</table>\n",
              "</div>"
            ],
            "text/plain": [
              "         Raza     Tamaño       Peso OrejasRecortadas\n",
              "0  Cane Corso  66.496714  46.920728             True\n",
              "1  Cane Corso  62.861736  46.917838            False\n",
              "2  Cane Corso  66.647689  47.802453             True\n",
              "3  Cane Corso  67.523030  45.108400            False\n",
              "4  Cane Corso  65.765847  45.343853             True"
            ]
          },
          "metadata": {},
          "output_type": "display_data"
        },
        {
          "name": "stdout",
          "output_type": "stream",
          "text": [
            "\n"
          ]
        },
        {
          "data": {
            "text/html": [
              "<div>\n",
              "<style scoped>\n",
              "    .dataframe tbody tr th:only-of-type {\n",
              "        vertical-align: middle;\n",
              "    }\n",
              "\n",
              "    .dataframe tbody tr th {\n",
              "        vertical-align: top;\n",
              "    }\n",
              "\n",
              "    .dataframe thead th {\n",
              "        text-align: right;\n",
              "    }\n",
              "</style>\n",
              "<table border=\"1\" class=\"dataframe\">\n",
              "  <thead>\n",
              "    <tr style=\"text-align: right;\">\n",
              "      <th></th>\n",
              "      <th>dtypes</th>\n",
              "    </tr>\n",
              "  </thead>\n",
              "  <tbody>\n",
              "    <tr>\n",
              "      <th>Raza</th>\n",
              "      <td>object</td>\n",
              "    </tr>\n",
              "    <tr>\n",
              "      <th>Tamaño</th>\n",
              "      <td>float64</td>\n",
              "    </tr>\n",
              "    <tr>\n",
              "      <th>Peso</th>\n",
              "      <td>float64</td>\n",
              "    </tr>\n",
              "    <tr>\n",
              "      <th>OrejasRecortadas</th>\n",
              "      <td>object</td>\n",
              "    </tr>\n",
              "  </tbody>\n",
              "</table>\n",
              "</div>"
            ],
            "text/plain": [
              "                   dtypes\n",
              "Raza               object\n",
              "Tamaño            float64\n",
              "Peso              float64\n",
              "OrejasRecortadas   object"
            ]
          },
          "execution_count": 3,
          "metadata": {},
          "output_type": "execute_result"
        }
      ],
      "source": [
        "df=pd.read_csv(\"dogs_dataset.csv\")\n",
        "display(df.head())\n",
        "print()\n",
        "pd.DataFrame(df.dtypes,columns=['dtypes'])"
      ]
    },
    {
      "cell_type": "code",
      "execution_count": 4,
      "metadata": {},
      "outputs": [
        {
          "data": {
            "text/html": [
              "<div>\n",
              "<style scoped>\n",
              "    .dataframe tbody tr th:only-of-type {\n",
              "        vertical-align: middle;\n",
              "    }\n",
              "\n",
              "    .dataframe tbody tr th {\n",
              "        vertical-align: top;\n",
              "    }\n",
              "\n",
              "    .dataframe thead th {\n",
              "        text-align: right;\n",
              "    }\n",
              "</style>\n",
              "<table border=\"1\" class=\"dataframe\">\n",
              "  <thead>\n",
              "    <tr style=\"text-align: right;\">\n",
              "      <th></th>\n",
              "      <th>Tamaño</th>\n",
              "      <th>Peso</th>\n",
              "      <th>OrejasRecortadas</th>\n",
              "    </tr>\n",
              "    <tr>\n",
              "      <th>Raza</th>\n",
              "      <th></th>\n",
              "      <th></th>\n",
              "      <th></th>\n",
              "    </tr>\n",
              "  </thead>\n",
              "  <tbody>\n",
              "    <tr>\n",
              "      <th>Boxer</th>\n",
              "      <td>10</td>\n",
              "      <td>10</td>\n",
              "      <td>10</td>\n",
              "    </tr>\n",
              "    <tr>\n",
              "      <th>Cane Corso</th>\n",
              "      <td>10</td>\n",
              "      <td>10</td>\n",
              "      <td>10</td>\n",
              "    </tr>\n",
              "  </tbody>\n",
              "</table>\n",
              "</div>"
            ],
            "text/plain": [
              "            Tamaño  Peso  OrejasRecortadas\n",
              "Raza                                      \n",
              "Boxer           10    10                10\n",
              "Cane Corso      10    10                10"
            ]
          },
          "execution_count": 4,
          "metadata": {},
          "output_type": "execute_result"
        }
      ],
      "source": [
        "df.groupby(['Raza']).count()\n"
      ]
    },
    {
      "cell_type": "markdown",
      "metadata": {},
      "source": [
        "Observamos que el dataset esta equilibrado, es decir, tenemos la misma cantidad de Cane Corso que de Boxer.\n",
        "\n",
        "Ahora, buscamos analizar el dataset y ver como se distribuyen los datos en base a las caracteristicas propuestas."
      ]
    },
    {
      "cell_type": "code",
      "execution_count": 5,
      "metadata": {},
      "outputs": [
        {
          "data": {
            "text/plain": [
              "Raza\n",
              "Boxer         20.0\n",
              "Cane Corso    80.0\n",
              "Name: Tamaño, dtype: float64"
            ]
          },
          "execution_count": 5,
          "metadata": {},
          "output_type": "execute_result"
        }
      ],
      "source": [
        "#cuento cuantos Cane Corso de tamano >63 hay\n",
        "df[(df['Raza']=='Cane Corso') & (df['Tamaño']>63)].count()\n",
        "\n",
        "#Cuento cuantos perros de tamano >63 hay\n",
        "df[(df['Tamaño']>63)].count()\n",
        "\n",
        "#pongo porcentajes de tamano>63 por cada raza\n",
        "df.groupby(['Raza'])['Tamaño'].apply(lambda x: (x>63).mean()*100)"
      ]
    },
    {
      "cell_type": "code",
      "execution_count": 6,
      "metadata": {},
      "outputs": [
        {
          "data": {
            "text/plain": [
              "Raza\n",
              "Boxer         90.0\n",
              "Cane Corso    10.0\n",
              "Name: Peso, dtype: float64"
            ]
          },
          "execution_count": 6,
          "metadata": {},
          "output_type": "execute_result"
        }
      ],
      "source": [
        "#cuento cuantos Boxer de peso < 40 hay\n",
        "df[(df['Raza']=='Boxer') & (df['Peso']<40)].count()\n",
        "\n",
        "#Cuento cuantos perros de peso <40 hay\n",
        "df[(df['Peso']<40)].count()\n",
        "\n",
        "#pongo porcentajes de peso<40 por cada raza\n",
        "df.groupby(['Raza'])['Peso'].apply(lambda x: (x<40).mean()*100)\n"
      ]
    },
    {
      "cell_type": "code",
      "execution_count": 7,
      "metadata": {},
      "outputs": [
        {
          "data": {
            "text/plain": [
              "Raza\n",
              "Boxer         40.0\n",
              "Cane Corso    60.0\n",
              "Name: OrejasRecortadas, dtype: float64"
            ]
          },
          "execution_count": 7,
          "metadata": {},
          "output_type": "execute_result"
        }
      ],
      "source": [
        "#cuento cuantos Boxer con oreja cortada hay\n",
        "\n",
        "df[(df['Raza']=='Boxer') & (df['OrejasRecortadas']==' True')].count()\n",
        "\n",
        "#Cuento cuantos perros con oreja cortada hay\n",
        "df[(df['OrejasRecortadas']==' True')].count()\n",
        "\n",
        "#pongo porcentajes de orejas cortadas por cada raza\n",
        "df.groupby(['Raza'])['OrejasRecortadas'].apply(lambda x: (x==' True').mean()*100)\n",
        "\n"
      ]
    },
    {
      "cell_type": "markdown",
      "metadata": {},
      "source": [
        "Observando estos porcentajes, podemos ver que:\n",
        "\n",
        "- Dividir por tamaño es una buena idea, ya que logra separar los datos en dos grupos bien diferenciados. Notamos esto por la diferencia en los porcentajes de Cane Corso y Boxer en cada grupo.\n",
        "- Dividir por peso también es una buena idea; esta división también muestra una homogeneidad altamente definida.\n",
        "- Dividir por orejas cortadas no aporta tanta información, ya que es una categoría donde se presenta mucha heterogeneidad en los datos.\n",
        "\n",
        "Observamos entonces que particionando a la población según los distintos atributos, puede aumentar la precisión en la clasificación. Vemos también que dicha precisión va a depender del atributo que selecionemos para realizar la partición, siendo el mejor atributo para particionar aquel que logra que los nodos hijos sean lo más homogéneos (puros) posibles. "
      ]
    },
    {
      "cell_type": "markdown",
      "metadata": {
        "id": "Dm7ul52urScN"
      },
      "source": [
        "## 📊 Mejor Partición\n",
        "\n",
        "Cada vez que realizamos una partición, estamos tratando de generar un subconjunto que sea lo más puro posible. Es decir, la división debe separar los datos de manera que mantenga juntos los datos similares.\n",
        "Pero... ¿Cómo se determina cuál es la mejor partición?\n",
        "\n",
        "Existen distintas métricas para evaluar la calidad de la partición, y estas dependen de si el problema es de **clasificación** o de **regresión**:\n",
        "\n",
        " 🔍 **Regresión** (problemas con variables continuas)\n",
        "\n",
        "1. **Reducción de Varianza** \n",
        "\n",
        "\n",
        "\n",
        " 🔍 **Clasificación** (problemas con variables categóricas)\n",
        "\n",
        "2. **Impureza de Gini**\n",
        "\n",
        "3. **Chi Cuadrado**\n",
        "\n",
        "4. **Entropía**\n",
        "\n",
        "\n",
        "\n",
        "\n",
        "\n",
        "\n",
        "\n",
        "\n"
      ]
    },
    {
      "cell_type": "markdown",
      "metadata": {
        "id": "rkvVdzxw6LSR"
      },
      "source": [
        "### 1. `Reducción de Varianza`\n",
        "- Utiliza la varianza como medida para decidir la característica en la que un nodo se divide en nodos secundarios.\n",
        "- La varianza indica cuánto difieren los elementos del conjunto; cuanto más cercana a cero es la varianza, más homogéneo es el conjunto.\n",
        "\n",
        "\n",
        "$$ C(D) = \\frac{1}{|D|} \\sum_{i \\in D} (y_i - \\overline{y_D})^2$$\n",
        "Donde: $$ \\overline{y_D} = \\frac{1}{|D|} \\sum_{i \\in D} y_i$$\n"
      ]
    },
    {
      "cell_type": "markdown",
      "metadata": {
        "id": "pIpxEJJc83NE"
      },
      "source": [
        "### `2. Impureza de Gini (o Índice de Gini)`\n",
        "- El índice de Gini se mide para cada nodo de decisión como la probabilidad $( P(j|t) )$, que es la probabilidad de pertenecer a la clase \\( j \\) estando en el nodo \\( t \\). En otras palabras, **mide la pureza del nodo**.\n",
        "\n",
        "$$\n",
        "\\begin{aligned}\n",
        "Gini(t) = \\sum_{j=1}^{n} [p(j|t)]^{2} = p_{1}^{2} + p_{2}^{2} + \\ldots + p_{n}^{2}\n",
        "\\end{aligned}\n",
        "$$\n",
        "\n",
        "- Por otro lado, la impureza de Gini se mide de la siguiente manera:\n",
        "\n",
        "$$\n",
        "\\begin{aligned}\n",
        "Impureza\\,de\\,Gini(t) = 1 - Gini(t)\n",
        "\\end{aligned}\n",
        "$$\n",
        "\n",
        "- Habiendo calculado la impureza de Gini para cada nodo hijo, podemos calcular el valor total de la **impureza de Gini del nodo padre como el promedio ponderado de las impurezas de Gini para cada nodo hijo**:\n",
        "\n",
        "$$\n",
        "\\begin{aligned}\n",
        "Impureza\\,de\\,Gini_{split} = \\frac{1}{n}\\sum_{i=1}^{k}n_{i} \\cdot Impureza\\,de\\,Gini(i)\n",
        "\\end{aligned}\n",
        "$$\n",
        "\n",
        "Siendo $( n_{i} )$ la población de cada nodo hijo, y $( n )$ la población total de los nodos hijos.\n",
        "\n",
        "- Después de calcular el valor total de la impureza de Gini para el nodo padre para cada uno de los atributos, elegimos aquel atributo que tenga el valor de impureza de Gini más bajo (es decir, el que consigue que los nodos hijos sean lo más puros posibles). Esto se repite recursivamente para cada nodo hijo.\n"
      ]
    },
    {
      "cell_type": "markdown",
      "metadata": {
        "id": "CuyMUl6tUZJe"
      },
      "source": [
        "### `3. Chi Cuadrado`\n",
        "- Se utiliza para realizar dos o más divisiones en un nodo. Trabaja en la significación estadística de las diferencias entre el nodo padre y los nodos hijos.\n",
        "- Buscamos seleccionar la partición que maximice el valor de $( \\chi^2 )$.\n",
        "\n",
        "$$\n",
        "\\chi^2 = \\sum_{i=1}^{r} \\sum_{j=1}^{c} \\frac{(O_{ij} - E_{ij})^2}{E_{ij}}\n",
        "$$\n",
        "\n",
        "donde:\n",
        "\n",
        "- \\( r \\) es el número de categorías (o clases) de la variable dependiente.\n",
        "- \\( c \\) es el número de categorías de la característica en cuestión.\n",
        "- $( O_{ij} )$ es el valor observado en la categoría \\( i \\) de la variable dependiente para la categoría \\( j \\) de la característica.\n",
        "- $( E_{ij} )$ es el valor esperado, que se calcula como:\n",
        "\n",
        "$$\n",
        "E_{ij} = \\frac{(\\text{Total de la fila } i) \\times (\\text{Total de la columna } j)}{\\text{Total general}}\n",
        "$$\n",
        "\n",
        "\n",
        "\n"
      ]
    },
    {
      "cell_type": "markdown",
      "metadata": {
        "id": "4KpfH4AYBGtU"
      },
      "source": [
        "### `4. Entropía`\n",
        "- En teoría de la información, la entropía se define como una forma de medir el grado de desorganización en un sistema. Es decir, busca medir qué tan similares o qué tan diferentes son los elementos de un sistema.\n",
        "\n",
        "- Matemáticamente, esto se representa con la siguiente fórmula:\n",
        "\n",
        "$$\n",
        "\\begin{aligned}\n",
        "Entropía = -p_{1} \\log_{2}(p_{1}) - p_{2} \\log_{2}(p_{2}) - \\ldots - p_{n} \\log_{2}(p_{n}) = -\\sum_{i=1}^{n} p_{i} \\log_{2}(p_{i})\n",
        "\\end{aligned}\n",
        "$$\n",
        "\n",
        "donde $( p_{i} )$ es la proporción de elementos de la clase \\( i \\) en el nodo.\n",
        "\n",
        "- Por otro lado, definimos la **Ganancia de Información** como:\n",
        "\n",
        "$$\n",
        "\\begin{aligned}\n",
        "Ganancia\\ de\\ Información = Entropía_{nodo\\ padre} - \\text{Suma ponderada de Entropía}_{nodos\\ hijos}\n",
        "\\end{aligned}\n",
        "$$\n"
      ]
    },
    {
      "cell_type": "markdown",
      "metadata": {
        "id": "kSs2cHuKzuRu"
      },
      "source": [
        "## 🔧 **Optimizaciones Posibles**\n",
        "\n",
        "Recordemos que los árboles de decisión suelen tender a hacer sobreajuste. Por lo tanto, es necesario implementar alguna optimización que nos ayude con este problema.\n",
        "\n",
        "Generalmente se busca realizar una 'poda' del árbol, es decir, limitar la profundidad en base a ciertos criterios. Algunos criterios de corte son:\n",
        "- Limitar la profundidad máxima del árbol.\n",
        "- Limitar el número mínimo de muestras requeridas en cada hoja.\n",
        "- Limitar el número mínimo de muestras necesarias para particionar.\n",
        "\n",
        "\n"
      ]
    },
    {
      "cell_type": "markdown",
      "metadata": {},
      "source": [
        "---"
      ]
    },
    {
      "cell_type": "markdown",
      "metadata": {
        "id": "ysQE-oE3I3Ro"
      },
      "source": [
        "# 🖥️ **Pasando a Código**\n",
        "\n",
        "Probamos el funcionamiento de un árbol de decisión sobre el conjunto de datos **\"Iris\"**:\n",
        "\n",
        "- El conjunto de datos contiene 50 muestras de cada una de tres especies de Iris (Iris setosa, Iris virginica e Iris versicolor).\n",
        "- Se midieron cuatro características de cada muestra: el largo y ancho del sépalo y del pétalo, en centímetros.\n"
      ]
    },
    {
      "cell_type": "code",
      "execution_count": 1,
      "metadata": {
        "id": "14ge5QnNOHVX"
      },
      "outputs": [],
      "source": [
        "from sklearn import datasets\n",
        "import numpy as np\n",
        "\n",
        "iris = datasets.load_iris()\n",
        "X = np.array(iris.data)\n",
        "Y = np.array(iris.target)"
      ]
    },
    {
      "cell_type": "code",
      "execution_count": 2,
      "metadata": {
        "id": "1RY9VvHJOKke"
      },
      "outputs": [
        {
          "name": "stdout",
          "output_type": "stream",
          "text": [
            "Train Shape: (112, 4)\n",
            "Test Shape: (38, 4)\n"
          ]
        }
      ],
      "source": [
        "from sklearn.model_selection import train_test_split\n",
        "\n",
        "X_train, X_test, Y_train, Y_test = train_test_split(X,Y, test_size = 0.25, random_state = 0)\n",
        "print(\"Train Shape:\", X_train.shape)\n",
        "print(\"Test Shape:\", X_test.shape)"
      ]
    },
    {
      "cell_type": "code",
      "execution_count": 3,
      "metadata": {
        "id": "jaP_Q_uIOMu2"
      },
      "outputs": [],
      "source": [
        "from decision_tree_algorithm import DecisionTree\n",
        "\n",
        "dt = DecisionTree(max_depth=3, min_samples_leaf= 1, min_information_gain=0.4)\n",
        "dt.train(X_train, Y_train)"
      ]
    },
    {
      "cell_type": "code",
      "execution_count": 4,
      "metadata": {
        "id": "KEpSVYucOPGu"
      },
      "outputs": [
        {
          "data": {
            "image/png": "[encoded data removed]",
            "text/plain": [
              "<Figure size 1200x600 with 1 Axes>"
            ]
          },
          "metadata": {},
          "output_type": "display_data"
        }
      ],
      "source": [
        "dt.plot_decision_tree(iris.feature_names, fig_size=(12,6))"
      ]
    },
    {
      "cell_type": "code",
      "execution_count": 5,
      "metadata": {
        "id": "7qDM86sEOWBT"
      },
      "outputs": [
        {
          "name": "stdout",
          "output_type": "stream",
          "text": [
            "Node: 0, Feature: 3, Threshold: 1.3000, Information Gain: 0.7095\n",
            "|   Node: 1, Feature: 3, Threshold: 0.5250, Information Gain: 0.6731\n",
            "|   |   Node: 2, Feature: 0, Threshold: 4.7750, Information Gain: 0.0000\n",
            "|   |   Node: 2, Feature: 3, Threshold: 1.0000, Information Gain: 0.4138\n",
            "|   |   |   Node: 3, Feature: 0, Threshold: 5.0000, Information Gain: 0.0000\n",
            "|   |   |   Node: 3, Feature: 0, Threshold: 5.3000, Information Gain: 0.0000\n",
            "|   Node: 1, Feature: 2, Threshold: 5.1000, Information Gain: 0.6089\n",
            "|   |   Node: 2, Feature: 2, Threshold: 4.8000, Information Gain: 0.2304\n",
            "|   |   Node: 2, Feature: 0, Threshold: 6.4000, Information Gain: 0.0000\n"
          ]
        }
      ],
      "source": [
        "dt.print_tree()"
      ]
    },
    {
      "cell_type": "code",
      "execution_count": 6,
      "metadata": {
        "id": "WZSoObYgOXaX"
      },
      "outputs": [
        {
          "data": {
            "image/png": "[encoded data removed]",
            "text/plain": [
              "<Figure size 1000x600 with 1 Axes>"
            ]
          },
          "metadata": {},
          "output_type": "display_data"
        }
      ],
      "source": [
        "dt.plot_feature_importance(iris.feature_names)"
      ]
    },
    {
      "cell_type": "code",
      "execution_count": 7,
      "metadata": {
        "id": "7DGO4n3fOamF"
      },
      "outputs": [
        {
          "name": "stdout",
          "output_type": "stream",
          "text": [
            "\"\"\"\"\"\"\"\"\"\"\"\"\"\"\"\"\"\"\n",
            "Train Performance\n",
            "\"\"\"\"\"\"\"\"\"\"\"\"\"\"\"\"\"\"\n",
            "Train Size: 112\n",
            "True Predictions: 106\n",
            "Train Accuracy: 0.9464285714285714\n"
          ]
        }
      ],
      "source": [
        "train_preds = dt.predict(X_set=X_train)\n",
        "print('\"\"\"\"\"\"\"\"\"\"\"\"\"\"\"\"\"\"\\nTrain Performance\\n\"\"\"\"\"\"\"\"\"\"\"\"\"\"\"\"\"\"')\n",
        "print(\"Train Size:\", len(Y_train))\n",
        "print(\"True Predictions:\", sum(train_preds == Y_train))\n",
        "print(\"Train Accuracy:\", sum(train_preds == Y_train)/len(Y_train) )"
      ]
    },
    {
      "cell_type": "code",
      "execution_count": 8,
      "metadata": {
        "id": "SjEuhxXROclf"
      },
      "outputs": [
        {
          "name": "stdout",
          "output_type": "stream",
          "text": [
            "\"\"\"\"\"\"\"\"\"\"\"\"\"\"\"\"\"\"\n",
            "Test Performance\n",
            "\"\"\"\"\"\"\"\"\"\"\"\"\"\"\"\"\"\"\n",
            "Test Size: 38\n",
            "True Predictions: 34\n",
            "Test Accuracy: 0.8947368421052632\n"
          ]
        }
      ],
      "source": [
        "test_preds = dt.predict(X_set=X_test)\n",
        "print('\"\"\"\"\"\"\"\"\"\"\"\"\"\"\"\"\"\"\\nTest Performance\\n\"\"\"\"\"\"\"\"\"\"\"\"\"\"\"\"\"\"')\n",
        "print(\"Test Size:\", len(Y_test))\n",
        "print(\"True Predictions:\", sum(test_preds == Y_test))\n",
        "print(\"Test Accuracy:\", sum(test_preds == Y_test)/len(Y_test) )"
      ]
    },
    {
      "cell_type": "markdown",
      "metadata": {},
      "source": [
        "Funciones a implementar:\n",
        "- `train_test_split`: dividir el dataset en entrenamiento y test.\n",
        "- `DecisionTree`: implementar el árbol de decisión. (Recomendamos crearlo como Clase).\n",
        "- Función de corte: `Variance`, `entropy`, `chi2` o `gini`.\n",
        "- `fit`: entrenar el modelo.\n",
        "- `predict`: predecir los valores.\n"
      ]
    },
    {
      "cell_type": "markdown",
      "metadata": {
        "id": "xe44f2WYzr3r"
      },
      "source": [
        "---\n"
      ]
    },
    {
      "cell_type": "markdown",
      "metadata": {
        "id": "ksP80dWwCsn8"
      },
      "source": [
        "# 🧩Árboles de Decisión con Ensamble \n",
        "\n",
        "\n",
        "\n",
        "\n"
      ]
    },
    {
      "cell_type": "markdown",
      "metadata": {
        "id": "W5T8uRLXQg_I"
      },
      "source": [
        "## 🤔 ¿En Qué Consiste?\n",
        "\n",
        "Los modelos de ensamble buscan aumentar la precisión de los árboles de decisión, ya que el uso de un solo árbol no suele alcanzar resultados realmente efectivos. Al usar más de un árbol, se reduce la varianza, pero se pierde la facilidad de interpretación que poseían los árboles de decisión simples.\n",
        "\n",
        "Esta técnica se basa en los siguientes principios:\n",
        "- Entrenar diferentes modelos sobre el mismo conjunto de datos.\n",
        "- Permitir que cada modelo haga sus propias predicciones.\n",
        "- Generar un meta-modelo que realice una agregación de las predicciones individuales de los distintos modelos.\n",
        "- Generar una predicción final usando el meta-modelo que sea más robusta que las predicciones de los modelos individualmente.\n",
        "\n",
        "<img src=\"ensamble.png\" alt=\"Estructura de un Árbol de Decisión\" width=\"600\"/>\n",
        "\n",
        "Si uno de los modelos individuales hace predicciones muy desacertadas en un determinado escenario, el resto de los modelos individuales estaría en condiciones de compensarlo. Es por esto que las predicciones del meta-modelo se vuelven más robustas.\n",
        "\n",
        "\n"
      ]
    },
    {
      "cell_type": "markdown",
      "metadata": {
        "id": "I63hjejReB6U"
      },
      "source": [
        "## 🚀 Meta-modelos Conocidos\n",
        "\n",
        "El concepto de ensamble se puede usar para muchos modelos distintos.\n",
        "\n",
        "Algunos modelos conocidos son:\n",
        "- **Bagging**\n",
        "- **Random Forest**  \n",
        "- **Boosting**\n"
      ]
    },
    {
      "cell_type": "markdown",
      "metadata": {
        "id": "M2_mw6PZeQAv"
      },
      "source": [
        "### 🎒 Bagging\n",
        "\n",
        "Bagging viene de **Bootstrap Aggregation**. El método Bootstrap consiste en tomar múltiples muestras aleatorias con reemplazo del conjunto de datos original. Cada muestra es del mismo tamaño que el conjunto de datos original, pero debido al reemplazo, algunas observaciones pueden repetirse, mientras que otras pueden no aparecer.\n",
        "\n",
        "Así se generan varios subconjuntos, donde cada uno es utilizado para entrenar un modelo independiente. Como cada modelo se entrenó con un conjunto de datos diferente, se espera que cada modelo detecte algo distinto del resto.\n",
        "\n",
        "Para determinar la predicción final, se debe tener en cuenta el tipo de problema:\n",
        "- Para un problema de regresión, se toman las predicciones de todos los modelos entrenados y se calcula el promedio de estas predicciones para obtener el resultado final.\n",
        "- Para un problema de clasificación, se realiza una votación mayoritaria entre las predicciones de los modelos. La clase que obtiene más votos es la predicción final.\n",
        "\n",
        "Así, el principal objetivo es reducir la varianza del modelo.\n",
        "\n"
      ]
    },
    {
      "cell_type": "markdown",
      "metadata": {
        "id": "OV5gs9tIjbAJ"
      },
      "source": [
        "### 🌲🎲 **Random Forest**\n",
        "\n",
        "- Los modelos de ensamble funcionan mejor cuando cada uno de los modelos que luego son ensamblados está lo más descorrelacionado posible.\n",
        "- Este modelo aplica la misma técnica que Bagging, pero en lugar de utilizar todas las variables independientes para cada modelo, aplica muestreos sin repetición para reducir la correlación.\n",
        "    - En particular, se generan los \\(N\\) datasets que entrenarán a los \\(N\\) árboles y para ello se realiza un muestreo de las variables independientes tomadas de a \\(M\\), dado un total de \\(P\\) variables independientes (o predictores).\n",
        "\n",
        "- Empíricamente se observó que los siguientes valores de \\(M\\) suelen lograr descorrelacionar los modelos:\n",
        "    - Para **Regresiones**: $(M = \\frac{P}{3})$\n",
        "    - Para **Clasificaciones**: $(M = \\sqrt{P})$ o $(M = \\log_2(P))$\n",
        "    *Pero si los predictores están altamente correlacionados, se pueden utilizar valores más pequeños de \\(M\\).*\n",
        "\n",
        "- Finalmente, la predicción del meta-modelo funciona exactamente igual que en el caso de Bagging.\n",
        "\n",
        "#### ¿Qué hiperparámetros podríamos implementar?\n",
        "- Número de árboles de decisión\n",
        "- Número de features a considerar cuando se hace un split en cada nodo de cada árbol\n",
        "- Tamaño del conjunto de datos bootstrap\n",
        "- Hiperparámetros del árbol de decisión\n",
        "\n",
        "#### ¿Qué funciones deberíamos implementar?\n",
        "- Función para crear las muestras bootstrap para cada modelo base del RF\n",
        "- Función de `train` que básicamente cree una lista que contenga todos los modelos base entrenados\n",
        "- Función de `predict` que considere a todos los modelos base para retornar la probabilidad predicha del modelo de RF\n"
      ]
    },
    {
      "cell_type": "markdown",
      "metadata": {},
      "source": [
        "### 🌀 Boosting\n",
        "\n",
        "El método consiste en tomar el conjunto de datos y utilizarlo para entrenar un modelo llamado **\"débil\"**. Este modelo etiqueta los datos y luego, sobre aquellos datos que fueron etiquetados incorrectamente, se les otorga un cierto peso para aumentar el grado de importancia.\n",
        "\n",
        "De esta manera, los modelos subsiguientes se enfocan más en corregir estos errores al entrenar sobre los datos ponderados. Un nuevo modelo débil se entrena en el mismo conjunto de datos, pero prestando más atención (dando mayor peso) a las instancias que los modelos anteriores predijeron incorrectamente. Este proceso se repite varias veces, con cada nuevo modelo intentando corregir los errores cometidos por el conjunto de modelos anteriores.\n",
        "\n",
        "Las predicciones de todos los modelos se combinan mediante una votación ponderada (en clasificación) o un promedio ponderado (en regresión). Los modelos que son más precisos tienen un mayor peso en la predicción final. Así, se busca reducir los sesgos del modelo.\n"
      ]
    }
  ],
  "metadata": {
    "colab": {
      "provenance": []
    },
    "kernelspec": {
      "display_name": "Python 3",
      "name": "python3"
    },
    "language_info": {
      "codemirror_mode": {
        "name": "ipython",
        "version": 3
      },
      "file_extension": ".py",
      "mimetype": "text/x-python",
      "name": "python",
      "nbconvert_exporter": "python",
      "pygments_lexer": "ipython3",
      "version": "3.11.4"
    }
  },
  "nbformat": 4,
  "nbformat_minor": 0
}
