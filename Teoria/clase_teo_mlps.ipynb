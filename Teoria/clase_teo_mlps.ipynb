{
 "cells": [
  {
   "cell_type": "markdown",
   "metadata": {},
   "source": [
    "Regularizacion en MLPs\n",
    "\n",
    "1) early stopping: \n",
    "\n",
    "- cuando estas seguro de que tu error de validacion esta empeorando, frena.\n",
    "\n",
    "2) regularizacion L2:\n",
    "\n",
    "- agregarle a la function de costo L = ( ) + lambda * ||w||2\n",
    "\n",
    "3) dropout: aleatoriamente apagar con probabildidad p (es una espece de ensamble)"
   ]
  }
 ],
 "metadata": {
  "language_info": {
   "name": "python"
  }
 },
 "nbformat": 4,
 "nbformat_minor": 2
}
